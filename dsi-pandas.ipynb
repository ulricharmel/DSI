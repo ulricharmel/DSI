{
 "cells": [
  {
   "cell_type": "markdown",
   "id": "c3b84f6d",
   "metadata": {},
   "source": [
    "# Question 2: Datascience with Pandas and Movie Data"
   ]
  },
  {
   "cell_type": "markdown",
   "id": "535b9ab5",
   "metadata": {},
   "source": [
    "0. Access some historical IMDB data files from the shared drive: "
   ]
  },
  {
   "cell_type": "code",
   "execution_count": 1,
   "id": "f3b69b9f",
   "metadata": {},
   "outputs": [],
   "source": [
    "# importing the necessary libraries\n",
    "import pandas as pd\n",
    "import numpy as np\n",
    "import matplotlib.pyplot as plt\n",
    "import seaborn as sns"
   ]
  },
  {
   "cell_type": "markdown",
   "id": "09ac1886",
   "metadata": {},
   "source": [
    "### Loading the data"
   ]
  },
  {
   "cell_type": "code",
   "execution_count": 35,
   "id": "a7d505ea",
   "metadata": {},
   "outputs": [
    {
     "name": "stderr",
     "output_type": "stream",
     "text": [
      "/home/ulrich/venv/datascience/lib/python3.8/site-packages/IPython/core/interactiveshell.py:3441: DtypeWarning: Columns (5) have mixed types.Specify dtype option on import or set low_memory=False.\n",
      "  exec(code_obj, self.user_global_ns, self.user_ns)\n"
     ]
    },
    {
     "data": {
      "text/html": [
       "<div>\n",
       "<style scoped>\n",
       "    .dataframe tbody tr th:only-of-type {\n",
       "        vertical-align: middle;\n",
       "    }\n",
       "\n",
       "    .dataframe tbody tr th {\n",
       "        vertical-align: top;\n",
       "    }\n",
       "\n",
       "    .dataframe thead th {\n",
       "        text-align: right;\n",
       "    }\n",
       "</style>\n",
       "<table border=\"1\" class=\"dataframe\">\n",
       "  <thead>\n",
       "    <tr style=\"text-align: right;\">\n",
       "      <th></th>\n",
       "      <th>tconst</th>\n",
       "      <th>titleType</th>\n",
       "      <th>primaryTitle</th>\n",
       "      <th>originalTitle</th>\n",
       "      <th>isAdult</th>\n",
       "      <th>startYear</th>\n",
       "      <th>endYear</th>\n",
       "      <th>runtimeMinutes</th>\n",
       "      <th>genres</th>\n",
       "    </tr>\n",
       "  </thead>\n",
       "  <tbody>\n",
       "    <tr>\n",
       "      <th>0</th>\n",
       "      <td>tt0000001</td>\n",
       "      <td>short</td>\n",
       "      <td>Carmencita</td>\n",
       "      <td>Carmencita</td>\n",
       "      <td>0</td>\n",
       "      <td>1894</td>\n",
       "      <td>\\N</td>\n",
       "      <td>1</td>\n",
       "      <td>Documentary,Short</td>\n",
       "    </tr>\n",
       "    <tr>\n",
       "      <th>1</th>\n",
       "      <td>tt0000002</td>\n",
       "      <td>short</td>\n",
       "      <td>Le clown et ses chiens</td>\n",
       "      <td>Le clown et ses chiens</td>\n",
       "      <td>0</td>\n",
       "      <td>1892</td>\n",
       "      <td>\\N</td>\n",
       "      <td>5</td>\n",
       "      <td>Animation,Short</td>\n",
       "    </tr>\n",
       "    <tr>\n",
       "      <th>2</th>\n",
       "      <td>tt0000003</td>\n",
       "      <td>short</td>\n",
       "      <td>Pauvre Pierrot</td>\n",
       "      <td>Pauvre Pierrot</td>\n",
       "      <td>0</td>\n",
       "      <td>1892</td>\n",
       "      <td>\\N</td>\n",
       "      <td>4</td>\n",
       "      <td>Animation,Comedy,Romance</td>\n",
       "    </tr>\n",
       "    <tr>\n",
       "      <th>3</th>\n",
       "      <td>tt0000004</td>\n",
       "      <td>short</td>\n",
       "      <td>Un bon bock</td>\n",
       "      <td>Un bon bock</td>\n",
       "      <td>0</td>\n",
       "      <td>1892</td>\n",
       "      <td>\\N</td>\n",
       "      <td>\\N</td>\n",
       "      <td>Animation,Short</td>\n",
       "    </tr>\n",
       "    <tr>\n",
       "      <th>4</th>\n",
       "      <td>tt0000005</td>\n",
       "      <td>short</td>\n",
       "      <td>Blacksmith Scene</td>\n",
       "      <td>Blacksmith Scene</td>\n",
       "      <td>0</td>\n",
       "      <td>1893</td>\n",
       "      <td>\\N</td>\n",
       "      <td>1</td>\n",
       "      <td>Comedy,Short</td>\n",
       "    </tr>\n",
       "  </tbody>\n",
       "</table>\n",
       "</div>"
      ],
      "text/plain": [
       "      tconst titleType            primaryTitle           originalTitle  \\\n",
       "0  tt0000001     short              Carmencita              Carmencita   \n",
       "1  tt0000002     short  Le clown et ses chiens  Le clown et ses chiens   \n",
       "2  tt0000003     short          Pauvre Pierrot          Pauvre Pierrot   \n",
       "3  tt0000004     short             Un bon bock             Un bon bock   \n",
       "4  tt0000005     short        Blacksmith Scene        Blacksmith Scene   \n",
       "\n",
       "   isAdult startYear endYear runtimeMinutes                    genres  \n",
       "0        0      1894      \\N              1         Documentary,Short  \n",
       "1        0      1892      \\N              5           Animation,Short  \n",
       "2        0      1892      \\N              4  Animation,Comedy,Romance  \n",
       "3        0      1892      \\N             \\N           Animation,Short  \n",
       "4        0      1893      \\N              1              Comedy,Short  "
      ]
     },
     "execution_count": 35,
     "metadata": {},
     "output_type": "execute_result"
    }
   ],
   "source": [
    "data_dir = \"./\" #https://drive.google.com/drive/folders/1dl6nw0HO9XVrT8dSBJHHn3mDW9EWQpXS?usp=sharing\n",
    "\n",
    "basics = pd.read_csv(data_dir+\"/title.basics.tsv.gz\", sep='\\t')\n",
    "basics.head()\n"
   ]
  },
  {
   "cell_type": "code",
   "execution_count": 3,
   "id": "666cd005",
   "metadata": {},
   "outputs": [
    {
     "name": "stdout",
     "output_type": "stream",
     "text": [
      "<class 'pandas.core.frame.DataFrame'>\n",
      "RangeIndex: 5330276 entries, 0 to 5330275\n",
      "Data columns (total 9 columns):\n",
      " #   Column          Non-Null Count    Dtype \n",
      "---  ------          --------------    ----- \n",
      " 0   tconst          5330276 non-null  object\n",
      " 1   titleType       5330276 non-null  object\n",
      " 2   primaryTitle    5330270 non-null  object\n",
      " 3   originalTitle   5330270 non-null  object\n",
      " 4   isAdult         5330276 non-null  int64 \n",
      " 5   startYear       5330276 non-null  object\n",
      " 6   endYear         5330276 non-null  object\n",
      " 7   runtimeMinutes  5330276 non-null  object\n",
      " 8   genres          5330274 non-null  object\n",
      "dtypes: int64(1), object(8)\n",
      "memory usage: 366.0+ MB\n"
     ]
    }
   ],
   "source": [
    "# Check dataframe summary\n",
    "basics.info(show_counts=True)"
   ]
  },
  {
   "cell_type": "code",
   "execution_count": null,
   "id": "227a4f9d",
   "metadata": {},
   "outputs": [],
   "source": [
    "# trying to find a data type for each column\n",
    "for col in basics.columns:\n",
    "    print(basics[col].unique())"
   ]
  },
  {
   "cell_type": "code",
   "execution_count": null,
   "id": "24e6aaa5",
   "metadata": {},
   "outputs": [],
   "source": []
  },
  {
   "cell_type": "code",
   "execution_count": 4,
   "id": "aeb6097a",
   "metadata": {},
   "outputs": [
    {
     "name": "stderr",
     "output_type": "stream",
     "text": [
      "/home/ulrich/venv/datascience/lib/python3.8/site-packages/IPython/core/interactiveshell.py:3441: DtypeWarning: Columns (7) have mixed types.Specify dtype option on import or set low_memory=False.\n",
      "  exec(code_obj, self.user_global_ns, self.user_ns)\n"
     ]
    },
    {
     "data": {
      "text/html": [
       "<div>\n",
       "<style scoped>\n",
       "    .dataframe tbody tr th:only-of-type {\n",
       "        vertical-align: middle;\n",
       "    }\n",
       "\n",
       "    .dataframe tbody tr th {\n",
       "        vertical-align: top;\n",
       "    }\n",
       "\n",
       "    .dataframe thead th {\n",
       "        text-align: right;\n",
       "    }\n",
       "</style>\n",
       "<table border=\"1\" class=\"dataframe\">\n",
       "  <thead>\n",
       "    <tr style=\"text-align: right;\">\n",
       "      <th></th>\n",
       "      <th>titleId</th>\n",
       "      <th>ordering</th>\n",
       "      <th>title</th>\n",
       "      <th>region</th>\n",
       "      <th>language</th>\n",
       "      <th>types</th>\n",
       "      <th>attributes</th>\n",
       "      <th>isOriginalTitle</th>\n",
       "    </tr>\n",
       "  </thead>\n",
       "  <tbody>\n",
       "    <tr>\n",
       "      <th>0</th>\n",
       "      <td>tt0000001</td>\n",
       "      <td>1</td>\n",
       "      <td>Carmencita - spanyol tánc</td>\n",
       "      <td>HU</td>\n",
       "      <td>\\N</td>\n",
       "      <td>imdbDisplay</td>\n",
       "      <td>\\N</td>\n",
       "      <td>0</td>\n",
       "    </tr>\n",
       "    <tr>\n",
       "      <th>1</th>\n",
       "      <td>tt0000001</td>\n",
       "      <td>2</td>\n",
       "      <td>Карменсита</td>\n",
       "      <td>RU</td>\n",
       "      <td>\\N</td>\n",
       "      <td>\\N</td>\n",
       "      <td>\\N</td>\n",
       "      <td>0</td>\n",
       "    </tr>\n",
       "    <tr>\n",
       "      <th>2</th>\n",
       "      <td>tt0000001</td>\n",
       "      <td>3</td>\n",
       "      <td>Carmencita</td>\n",
       "      <td>US</td>\n",
       "      <td>\\N</td>\n",
       "      <td>\\N</td>\n",
       "      <td>\\N</td>\n",
       "      <td>0</td>\n",
       "    </tr>\n",
       "    <tr>\n",
       "      <th>3</th>\n",
       "      <td>tt0000001</td>\n",
       "      <td>4</td>\n",
       "      <td>Carmencita</td>\n",
       "      <td>\\N</td>\n",
       "      <td>\\N</td>\n",
       "      <td>original</td>\n",
       "      <td>\\N</td>\n",
       "      <td>1</td>\n",
       "    </tr>\n",
       "    <tr>\n",
       "      <th>4</th>\n",
       "      <td>tt0000002</td>\n",
       "      <td>1</td>\n",
       "      <td>Le clown et ses chiens</td>\n",
       "      <td>\\N</td>\n",
       "      <td>\\N</td>\n",
       "      <td>original</td>\n",
       "      <td>\\N</td>\n",
       "      <td>1</td>\n",
       "    </tr>\n",
       "  </tbody>\n",
       "</table>\n",
       "</div>"
      ],
      "text/plain": [
       "     titleId  ordering                      title region language  \\\n",
       "0  tt0000001         1  Carmencita - spanyol tánc     HU       \\N   \n",
       "1  tt0000001         2                 Карменсита     RU       \\N   \n",
       "2  tt0000001         3                 Carmencita     US       \\N   \n",
       "3  tt0000001         4                 Carmencita     \\N       \\N   \n",
       "4  tt0000002         1     Le clown et ses chiens     \\N       \\N   \n",
       "\n",
       "         types attributes isOriginalTitle  \n",
       "0  imdbDisplay         \\N               0  \n",
       "1           \\N         \\N               0  \n",
       "2           \\N         \\N               0  \n",
       "3     original         \\N               1  \n",
       "4     original         \\N               1  "
      ]
     },
     "execution_count": 4,
     "metadata": {},
     "output_type": "execute_result"
    }
   ],
   "source": [
    "akas = pd.read_csv(data_dir+\"/title.akas.tsv.gz\", sep='\\t')\n",
    "\n",
    "akas.head()"
   ]
  },
  {
   "cell_type": "code",
   "execution_count": 5,
   "id": "968c743a",
   "metadata": {},
   "outputs": [
    {
     "name": "stdout",
     "output_type": "stream",
     "text": [
      "<class 'pandas.core.frame.DataFrame'>\n",
      "RangeIndex: 3423660 entries, 0 to 3423659\n",
      "Data columns (total 8 columns):\n",
      " #   Column           Non-Null Count    Dtype \n",
      "---  ------           --------------    ----- \n",
      " 0   titleId          3423660 non-null  object\n",
      " 1   ordering         3423660 non-null  int64 \n",
      " 2   title            3423660 non-null  object\n",
      " 3   region           3423605 non-null  object\n",
      " 4   language         3423660 non-null  object\n",
      " 5   types            3423660 non-null  object\n",
      " 6   attributes       3423660 non-null  object\n",
      " 7   isOriginalTitle  3423660 non-null  object\n",
      "dtypes: int64(1), object(7)\n",
      "memory usage: 209.0+ MB\n"
     ]
    }
   ],
   "source": [
    "# Check dataframe summary\n",
    "akas.info(show_counts=True)"
   ]
  },
  {
   "cell_type": "code",
   "execution_count": null,
   "id": "e6011370",
   "metadata": {},
   "outputs": [],
   "source": [
    "# trying to find a data type for each column\n",
    "for col in akas.columns:\n",
    "    print(akas[col].unique())"
   ]
  },
  {
   "cell_type": "code",
   "execution_count": 6,
   "id": "44cf9df6",
   "metadata": {},
   "outputs": [
    {
     "data": {
      "text/html": [
       "<div>\n",
       "<style scoped>\n",
       "    .dataframe tbody tr th:only-of-type {\n",
       "        vertical-align: middle;\n",
       "    }\n",
       "\n",
       "    .dataframe tbody tr th {\n",
       "        vertical-align: top;\n",
       "    }\n",
       "\n",
       "    .dataframe thead th {\n",
       "        text-align: right;\n",
       "    }\n",
       "</style>\n",
       "<table border=\"1\" class=\"dataframe\">\n",
       "  <thead>\n",
       "    <tr style=\"text-align: right;\">\n",
       "      <th></th>\n",
       "      <th>tconst</th>\n",
       "      <th>averageRating</th>\n",
       "      <th>numVotes</th>\n",
       "    </tr>\n",
       "  </thead>\n",
       "  <tbody>\n",
       "    <tr>\n",
       "      <th>0</th>\n",
       "      <td>tt0000001</td>\n",
       "      <td>5.8</td>\n",
       "      <td>1422</td>\n",
       "    </tr>\n",
       "    <tr>\n",
       "      <th>1</th>\n",
       "      <td>tt0000002</td>\n",
       "      <td>6.4</td>\n",
       "      <td>168</td>\n",
       "    </tr>\n",
       "    <tr>\n",
       "      <th>2</th>\n",
       "      <td>tt0000003</td>\n",
       "      <td>6.6</td>\n",
       "      <td>1015</td>\n",
       "    </tr>\n",
       "    <tr>\n",
       "      <th>3</th>\n",
       "      <td>tt0000004</td>\n",
       "      <td>6.4</td>\n",
       "      <td>100</td>\n",
       "    </tr>\n",
       "    <tr>\n",
       "      <th>4</th>\n",
       "      <td>tt0000005</td>\n",
       "      <td>6.2</td>\n",
       "      <td>1713</td>\n",
       "    </tr>\n",
       "  </tbody>\n",
       "</table>\n",
       "</div>"
      ],
      "text/plain": [
       "      tconst  averageRating  numVotes\n",
       "0  tt0000001            5.8      1422\n",
       "1  tt0000002            6.4       168\n",
       "2  tt0000003            6.6      1015\n",
       "3  tt0000004            6.4       100\n",
       "4  tt0000005            6.2      1713"
      ]
     },
     "execution_count": 6,
     "metadata": {},
     "output_type": "execute_result"
    }
   ],
   "source": [
    "ratings = pd.read_csv(data_dir+\"/title.ratings.tsv.gz\", sep='\\t')\n",
    "\n",
    "ratings.head()"
   ]
  },
  {
   "cell_type": "code",
   "execution_count": 7,
   "id": "ec8c1266",
   "metadata": {},
   "outputs": [
    {
     "name": "stdout",
     "output_type": "stream",
     "text": [
      "<class 'pandas.core.frame.DataFrame'>\n",
      "RangeIndex: 874203 entries, 0 to 874202\n",
      "Data columns (total 3 columns):\n",
      " #   Column         Non-Null Count   Dtype  \n",
      "---  ------         --------------   -----  \n",
      " 0   tconst         874203 non-null  object \n",
      " 1   averageRating  874203 non-null  float64\n",
      " 2   numVotes       874203 non-null  int64  \n",
      "dtypes: float64(1), int64(1), object(1)\n",
      "memory usage: 20.0+ MB\n"
     ]
    }
   ],
   "source": [
    "# Check dataframe summary\n",
    "ratings.info(show_counts=True)"
   ]
  },
  {
   "cell_type": "code",
   "execution_count": null,
   "id": "8451ad8b",
   "metadata": {},
   "outputs": [],
   "source": [
    "# trying to find a data type for each column\n",
    "for col in ratings.columns:\n",
    "    print(ratings[col].unique())"
   ]
  },
  {
   "cell_type": "code",
   "execution_count": 8,
   "id": "1f46141b",
   "metadata": {},
   "outputs": [
    {
     "name": "stdout",
     "output_type": "stream",
     "text": [
      "(3423660, 8)\n",
      "(874203, 3)\n",
      "(5330276, 9)\n"
     ]
    }
   ],
   "source": [
    "print(akas.shape)\n",
    "print(ratings.shape)\n",
    "print(basics.shape)"
   ]
  },
  {
   "cell_type": "markdown",
   "id": "cab96f75",
   "metadata": {},
   "source": [
    "### Drop duplicates in all the dataframes"
   ]
  },
  {
   "cell_type": "code",
   "execution_count": 9,
   "id": "8b5509c4",
   "metadata": {},
   "outputs": [],
   "source": [
    "basics.drop_duplicates(subset =\"tconst\",\n",
    "                     keep = False, inplace = True)\n",
    "akas.drop_duplicates(subset =\"titleId\",\n",
    "                     keep = False, inplace = True)\n",
    "ratings.drop_duplicates(subset =\"tconst\",\n",
    "                     keep = False, inplace = True)"
   ]
  },
  {
   "cell_type": "code",
   "execution_count": null,
   "id": "8a9e19c8",
   "metadata": {},
   "outputs": [],
   "source": [
    "basics.shape"
   ]
  },
  {
   "cell_type": "code",
   "execution_count": null,
   "id": "e6abc245",
   "metadata": {},
   "outputs": [],
   "source": [
    "akas.shape"
   ]
  },
  {
   "cell_type": "code",
   "execution_count": null,
   "id": "09ccdf3d",
   "metadata": {},
   "outputs": [],
   "source": [
    "ratings.shape"
   ]
  },
  {
   "cell_type": "markdown",
   "id": "b8288ef0",
   "metadata": {},
   "source": [
    "### 3. Merging the dataframes"
   ]
  },
  {
   "cell_type": "code",
   "execution_count": 10,
   "id": "e256ac92",
   "metadata": {},
   "outputs": [],
   "source": [
    "# rename tconst to titleId\n",
    "basics = basics.rename(columns={'tconst':'titleId'})\n",
    "ratings = ratings.rename(columns={'tconst':'titleId'})"
   ]
  },
  {
   "cell_type": "code",
   "execution_count": 11,
   "id": "b9635d65",
   "metadata": {},
   "outputs": [],
   "source": [
    "from functools import reduce\n",
    "\n",
    "dfs = [basics, akas, ratings]\n",
    "\n",
    "df_inner = reduce(lambda left,right: pd.merge(left,right,on=['titleId'], how='inner'), dfs)\n",
    "df_outer = reduce(lambda left,right: pd.merge(left,right,on=['titleId'], how='outer'), dfs)"
   ]
  },
  {
   "cell_type": "code",
   "execution_count": 12,
   "id": "abfa504b",
   "metadata": {},
   "outputs": [
    {
     "name": "stdout",
     "output_type": "stream",
     "text": [
      "inner produces shape:  (376260, 18)\n",
      "outer produces shape:  (5333998, 18)\n"
     ]
    }
   ],
   "source": [
    "print(\"inner produces shape: \",df_inner.shape)\n",
    "print(\"outer produces shape: \",df_outer.shape)"
   ]
  },
  {
   "cell_type": "code",
   "execution_count": 13,
   "id": "85227227",
   "metadata": {},
   "outputs": [
    {
     "name": "stdout",
     "output_type": "stream",
     "text": [
      "inner produces 10 unique titleTypes\n",
      "outer produces 11 unique titleTypes\n"
     ]
    }
   ],
   "source": [
    "print(f\"inner produces {len(df_inner.titleType.unique())} unique titleTypes\")\n",
    "print(f\"outer produces {len(df_outer.titleType.unique())} unique titleTypes\")"
   ]
  },
  {
   "cell_type": "code",
   "execution_count": null,
   "id": "0a45f2fd",
   "metadata": {},
   "outputs": [],
   "source": [
    "df_inner.head()"
   ]
  },
  {
   "cell_type": "code",
   "execution_count": null,
   "id": "60700ba6",
   "metadata": {},
   "outputs": [],
   "source": [
    "df_outer.head()"
   ]
  },
  {
   "cell_type": "markdown",
   "id": "b7582b34",
   "metadata": {},
   "source": [
    "4. Make a new dataframe from step 3 by selecting only rows corresponding to English-language films ('en') OR US-region films ('US') AND only those that are movies (using the 'titleType' column). Put the resulting data into a new dataframe; call it df_new. \n"
   ]
  },
  {
   "cell_type": "code",
   "execution_count": null,
   "id": "0263cf14",
   "metadata": {},
   "outputs": [],
   "source": [
    "df_outer.titleType.unique()"
   ]
  },
  {
   "cell_type": "code",
   "execution_count": null,
   "id": "0bf23f9a",
   "metadata": {},
   "outputs": [],
   "source": [
    "df_outer.region.unique()"
   ]
  },
  {
   "cell_type": "code",
   "execution_count": null,
   "id": "76c8e1de",
   "metadata": {},
   "outputs": [],
   "source": [
    "df_outer.language.unique()"
   ]
  },
  {
   "cell_type": "code",
   "execution_count": 14,
   "id": "582c8f4b",
   "metadata": {},
   "outputs": [],
   "source": [
    "df_new = df_inner[((df_inner[\"language\"]==\"en\") | (df_inner['region']==\"US\")) & (df_inner[\"titleType\"].isin(['movie', 'tvMovie']))]\n",
    "df_outer_new = df_outer[((df_outer[\"language\"]==\"en\") | (df_outer['region']==\"US\")) & (df_outer[\"titleType\"].isin(['movie', 'tvMovie']))]"
   ]
  },
  {
   "cell_type": "code",
   "execution_count": 15,
   "id": "1f57e0f7",
   "metadata": {},
   "outputs": [
    {
     "data": {
      "text/html": [
       "<div>\n",
       "<style scoped>\n",
       "    .dataframe tbody tr th:only-of-type {\n",
       "        vertical-align: middle;\n",
       "    }\n",
       "\n",
       "    .dataframe tbody tr th {\n",
       "        vertical-align: top;\n",
       "    }\n",
       "\n",
       "    .dataframe thead th {\n",
       "        text-align: right;\n",
       "    }\n",
       "</style>\n",
       "<table border=\"1\" class=\"dataframe\">\n",
       "  <thead>\n",
       "    <tr style=\"text-align: right;\">\n",
       "      <th></th>\n",
       "      <th>titleId</th>\n",
       "      <th>titleType</th>\n",
       "      <th>primaryTitle</th>\n",
       "      <th>originalTitle</th>\n",
       "      <th>isAdult</th>\n",
       "      <th>startYear</th>\n",
       "      <th>endYear</th>\n",
       "      <th>runtimeMinutes</th>\n",
       "      <th>genres</th>\n",
       "      <th>ordering</th>\n",
       "      <th>title</th>\n",
       "      <th>region</th>\n",
       "      <th>language</th>\n",
       "      <th>types</th>\n",
       "      <th>attributes</th>\n",
       "      <th>isOriginalTitle</th>\n",
       "      <th>averageRating</th>\n",
       "      <th>numVotes</th>\n",
       "    </tr>\n",
       "  </thead>\n",
       "  <tbody>\n",
       "    <tr>\n",
       "      <th>119</th>\n",
       "      <td>tt0000679</td>\n",
       "      <td>movie</td>\n",
       "      <td>The Fairylogue and Radio-Plays</td>\n",
       "      <td>The Fairylogue and Radio-Plays</td>\n",
       "      <td>0</td>\n",
       "      <td>1908</td>\n",
       "      <td>\\N</td>\n",
       "      <td>120</td>\n",
       "      <td>Adventure,Fantasy</td>\n",
       "      <td>1</td>\n",
       "      <td>The Fairylogue and Radio-Plays</td>\n",
       "      <td>US</td>\n",
       "      <td>\\N</td>\n",
       "      <td>\\N</td>\n",
       "      <td>\\N</td>\n",
       "      <td>0</td>\n",
       "      <td>5.9</td>\n",
       "      <td>26</td>\n",
       "    </tr>\n",
       "    <tr>\n",
       "      <th>231</th>\n",
       "      <td>tt0001159</td>\n",
       "      <td>movie</td>\n",
       "      <td>The Connecticut Yankee</td>\n",
       "      <td>The Connecticut Yankee</td>\n",
       "      <td>0</td>\n",
       "      <td>1910</td>\n",
       "      <td>\\N</td>\n",
       "      <td>\\N</td>\n",
       "      <td>\\N</td>\n",
       "      <td>1</td>\n",
       "      <td>The Connecticut Yankee</td>\n",
       "      <td>US</td>\n",
       "      <td>\\N</td>\n",
       "      <td>\\N</td>\n",
       "      <td>\\N</td>\n",
       "      <td>0</td>\n",
       "      <td>5.7</td>\n",
       "      <td>6</td>\n",
       "    </tr>\n",
       "    <tr>\n",
       "      <th>241</th>\n",
       "      <td>tt0001230</td>\n",
       "      <td>movie</td>\n",
       "      <td>Gentleman Joe</td>\n",
       "      <td>Gentleman Joe</td>\n",
       "      <td>0</td>\n",
       "      <td>1910</td>\n",
       "      <td>\\N</td>\n",
       "      <td>\\N</td>\n",
       "      <td>\\N</td>\n",
       "      <td>1</td>\n",
       "      <td>Gentleman Joe</td>\n",
       "      <td>US</td>\n",
       "      <td>\\N</td>\n",
       "      <td>\\N</td>\n",
       "      <td>\\N</td>\n",
       "      <td>0</td>\n",
       "      <td>5.0</td>\n",
       "      <td>6</td>\n",
       "    </tr>\n",
       "    <tr>\n",
       "      <th>271</th>\n",
       "      <td>tt0001482</td>\n",
       "      <td>movie</td>\n",
       "      <td>As in a Looking Glass</td>\n",
       "      <td>As in a Looking Glass</td>\n",
       "      <td>0</td>\n",
       "      <td>1911</td>\n",
       "      <td>\\N</td>\n",
       "      <td>\\N</td>\n",
       "      <td>Drama</td>\n",
       "      <td>1</td>\n",
       "      <td>As in a Looking Glass</td>\n",
       "      <td>US</td>\n",
       "      <td>\\N</td>\n",
       "      <td>\\N</td>\n",
       "      <td>\\N</td>\n",
       "      <td>0</td>\n",
       "      <td>5.5</td>\n",
       "      <td>25</td>\n",
       "    </tr>\n",
       "    <tr>\n",
       "      <th>287</th>\n",
       "      <td>tt0001586</td>\n",
       "      <td>movie</td>\n",
       "      <td>A Dog's Tale</td>\n",
       "      <td>A Dog's Tale</td>\n",
       "      <td>0</td>\n",
       "      <td>1911</td>\n",
       "      <td>\\N</td>\n",
       "      <td>\\N</td>\n",
       "      <td>\\N</td>\n",
       "      <td>1</td>\n",
       "      <td>A Dog's Tale</td>\n",
       "      <td>US</td>\n",
       "      <td>\\N</td>\n",
       "      <td>\\N</td>\n",
       "      <td>\\N</td>\n",
       "      <td>0</td>\n",
       "      <td>4.5</td>\n",
       "      <td>6</td>\n",
       "    </tr>\n",
       "  </tbody>\n",
       "</table>\n",
       "</div>"
      ],
      "text/plain": [
       "       titleId titleType                    primaryTitle  \\\n",
       "119  tt0000679     movie  The Fairylogue and Radio-Plays   \n",
       "231  tt0001159     movie          The Connecticut Yankee   \n",
       "241  tt0001230     movie                   Gentleman Joe   \n",
       "271  tt0001482     movie           As in a Looking Glass   \n",
       "287  tt0001586     movie                    A Dog's Tale   \n",
       "\n",
       "                      originalTitle  isAdult startYear endYear runtimeMinutes  \\\n",
       "119  The Fairylogue and Radio-Plays        0      1908      \\N            120   \n",
       "231          The Connecticut Yankee        0      1910      \\N             \\N   \n",
       "241                   Gentleman Joe        0      1910      \\N             \\N   \n",
       "271           As in a Looking Glass        0      1911      \\N             \\N   \n",
       "287                    A Dog's Tale        0      1911      \\N             \\N   \n",
       "\n",
       "                genres  ordering                           title region  \\\n",
       "119  Adventure,Fantasy         1  The Fairylogue and Radio-Plays     US   \n",
       "231                 \\N         1          The Connecticut Yankee     US   \n",
       "241                 \\N         1                   Gentleman Joe     US   \n",
       "271              Drama         1           As in a Looking Glass     US   \n",
       "287                 \\N         1                    A Dog's Tale     US   \n",
       "\n",
       "    language types attributes isOriginalTitle  averageRating  numVotes  \n",
       "119       \\N    \\N         \\N               0            5.9        26  \n",
       "231       \\N    \\N         \\N               0            5.7         6  \n",
       "241       \\N    \\N         \\N               0            5.0         6  \n",
       "271       \\N    \\N         \\N               0            5.5        25  \n",
       "287       \\N    \\N         \\N               0            4.5         6  "
      ]
     },
     "execution_count": 15,
     "metadata": {},
     "output_type": "execute_result"
    }
   ],
   "source": [
    "df_new.head()"
   ]
  },
  {
   "cell_type": "markdown",
   "id": "ea9020f9",
   "metadata": {},
   "source": [
    "5. Add a new column to df_new with column title 'log10Votes' which gives the Log_10 number of the 'numVotes' column."
   ]
  },
  {
   "cell_type": "code",
   "execution_count": 16,
   "id": "f6b733fb",
   "metadata": {},
   "outputs": [
    {
     "name": "stderr",
     "output_type": "stream",
     "text": [
      "/home/ulrich/venv/datascience/lib/python3.8/site-packages/pandas/core/frame.py:3607: SettingWithCopyWarning: \n",
      "A value is trying to be set on a copy of a slice from a DataFrame.\n",
      "Try using .loc[row_indexer,col_indexer] = value instead\n",
      "\n",
      "See the caveats in the documentation: https://pandas.pydata.org/pandas-docs/stable/user_guide/indexing.html#returning-a-view-versus-a-copy\n",
      "  self._set_item(key, value)\n"
     ]
    }
   ],
   "source": [
    "df_new[\"log10Votes\"] = np.log10(df_new[\"numVotes\"].values)"
   ]
  },
  {
   "cell_type": "code",
   "execution_count": null,
   "id": "d34b971f",
   "metadata": {},
   "outputs": [],
   "source": [
    "df_new.head()"
   ]
  },
  {
   "cell_type": "markdown",
   "id": "916f5619",
   "metadata": {},
   "source": [
    "Lower the case of all text in the 'genres' column. "
   ]
  },
  {
   "cell_type": "code",
   "execution_count": 17,
   "id": "459700c3",
   "metadata": {},
   "outputs": [],
   "source": [
    "df_new[\"genres\"] = df_new[\"genres\"].str.lower()"
   ]
  },
  {
   "cell_type": "code",
   "execution_count": null,
   "id": "f0646b5e",
   "metadata": {},
   "outputs": [],
   "source": [
    "df_new.head()"
   ]
  },
  {
   "cell_type": "markdown",
   "id": "6e1f8bf1",
   "metadata": {},
   "source": [
    "6. Using Groupby (or other technique) group all data by 'genres' and display the top 10 highest genres by:"
   ]
  },
  {
   "cell_type": "code",
   "execution_count": 18,
   "id": "9f2406c4",
   "metadata": {},
   "outputs": [],
   "source": [
    "# Grouping the data by genres\n",
    "df_group = df_new.groupby(['genres']).mean()"
   ]
  },
  {
   "cell_type": "code",
   "execution_count": 19,
   "id": "71dad02c",
   "metadata": {},
   "outputs": [
    {
     "data": {
      "text/html": [
       "<div>\n",
       "<style scoped>\n",
       "    .dataframe tbody tr th:only-of-type {\n",
       "        vertical-align: middle;\n",
       "    }\n",
       "\n",
       "    .dataframe tbody tr th {\n",
       "        vertical-align: top;\n",
       "    }\n",
       "\n",
       "    .dataframe thead th {\n",
       "        text-align: right;\n",
       "    }\n",
       "</style>\n",
       "<table border=\"1\" class=\"dataframe\">\n",
       "  <thead>\n",
       "    <tr style=\"text-align: right;\">\n",
       "      <th></th>\n",
       "      <th>isAdult</th>\n",
       "      <th>ordering</th>\n",
       "      <th>averageRating</th>\n",
       "      <th>numVotes</th>\n",
       "      <th>log10Votes</th>\n",
       "    </tr>\n",
       "    <tr>\n",
       "      <th>genres</th>\n",
       "      <th></th>\n",
       "      <th></th>\n",
       "      <th></th>\n",
       "      <th></th>\n",
       "      <th></th>\n",
       "    </tr>\n",
       "  </thead>\n",
       "  <tbody>\n",
       "    <tr>\n",
       "      <th>action,documentary,sci-fi</th>\n",
       "      <td>0.0</td>\n",
       "      <td>1.0</td>\n",
       "      <td>7.2</td>\n",
       "      <td>4073.0</td>\n",
       "      <td>3.609914</td>\n",
       "    </tr>\n",
       "    <tr>\n",
       "      <th>animation,crime,music</th>\n",
       "      <td>0.0</td>\n",
       "      <td>1.0</td>\n",
       "      <td>7.0</td>\n",
       "      <td>1485.0</td>\n",
       "      <td>3.171726</td>\n",
       "    </tr>\n",
       "    <tr>\n",
       "      <th>animation,documentary,mystery</th>\n",
       "      <td>0.0</td>\n",
       "      <td>1.0</td>\n",
       "      <td>8.2</td>\n",
       "      <td>883.0</td>\n",
       "      <td>2.945961</td>\n",
       "    </tr>\n",
       "    <tr>\n",
       "      <th>action,fantasy,musical</th>\n",
       "      <td>0.0</td>\n",
       "      <td>1.0</td>\n",
       "      <td>7.7</td>\n",
       "      <td>822.0</td>\n",
       "      <td>2.914872</td>\n",
       "    </tr>\n",
       "    <tr>\n",
       "      <th>animation,fantasy,horror</th>\n",
       "      <td>0.0</td>\n",
       "      <td>1.0</td>\n",
       "      <td>4.1</td>\n",
       "      <td>749.0</td>\n",
       "      <td>2.874482</td>\n",
       "    </tr>\n",
       "    <tr>\n",
       "      <th>music,sci-fi</th>\n",
       "      <td>0.0</td>\n",
       "      <td>1.0</td>\n",
       "      <td>5.7</td>\n",
       "      <td>719.0</td>\n",
       "      <td>2.856729</td>\n",
       "    </tr>\n",
       "    <tr>\n",
       "      <th>family,horror,mystery</th>\n",
       "      <td>0.0</td>\n",
       "      <td>1.0</td>\n",
       "      <td>4.0</td>\n",
       "      <td>636.0</td>\n",
       "      <td>2.803457</td>\n",
       "    </tr>\n",
       "    <tr>\n",
       "      <th>family,history</th>\n",
       "      <td>0.0</td>\n",
       "      <td>1.0</td>\n",
       "      <td>6.5</td>\n",
       "      <td>573.0</td>\n",
       "      <td>2.758155</td>\n",
       "    </tr>\n",
       "    <tr>\n",
       "      <th>animation,comedy,musical</th>\n",
       "      <td>0.0</td>\n",
       "      <td>1.0</td>\n",
       "      <td>5.9</td>\n",
       "      <td>537.5</td>\n",
       "      <td>2.727610</td>\n",
       "    </tr>\n",
       "    <tr>\n",
       "      <th>biography,music,romance</th>\n",
       "      <td>0.0</td>\n",
       "      <td>1.0</td>\n",
       "      <td>5.9</td>\n",
       "      <td>528.0</td>\n",
       "      <td>2.722634</td>\n",
       "    </tr>\n",
       "  </tbody>\n",
       "</table>\n",
       "</div>"
      ],
      "text/plain": [
       "                               isAdult  ordering  averageRating  numVotes  \\\n",
       "genres                                                                      \n",
       "action,documentary,sci-fi          0.0       1.0            7.2    4073.0   \n",
       "animation,crime,music              0.0       1.0            7.0    1485.0   \n",
       "animation,documentary,mystery      0.0       1.0            8.2     883.0   \n",
       "action,fantasy,musical             0.0       1.0            7.7     822.0   \n",
       "animation,fantasy,horror           0.0       1.0            4.1     749.0   \n",
       "music,sci-fi                       0.0       1.0            5.7     719.0   \n",
       "family,horror,mystery              0.0       1.0            4.0     636.0   \n",
       "family,history                     0.0       1.0            6.5     573.0   \n",
       "animation,comedy,musical           0.0       1.0            5.9     537.5   \n",
       "biography,music,romance            0.0       1.0            5.9     528.0   \n",
       "\n",
       "                               log10Votes  \n",
       "genres                                     \n",
       "action,documentary,sci-fi        3.609914  \n",
       "animation,crime,music            3.171726  \n",
       "animation,documentary,mystery    2.945961  \n",
       "action,fantasy,musical           2.914872  \n",
       "animation,fantasy,horror         2.874482  \n",
       "music,sci-fi                     2.856729  \n",
       "family,horror,mystery            2.803457  \n",
       "family,history                   2.758155  \n",
       "animation,comedy,musical         2.727610  \n",
       "biography,music,romance          2.722634  "
      ]
     },
     "execution_count": 19,
     "metadata": {},
     "output_type": "execute_result"
    }
   ],
   "source": [
    "df_group.nlargest(10, 'log10Votes')"
   ]
  },
  {
   "cell_type": "code",
   "execution_count": 20,
   "id": "211aaf15",
   "metadata": {},
   "outputs": [
    {
     "data": {
      "text/html": [
       "<div>\n",
       "<style scoped>\n",
       "    .dataframe tbody tr th:only-of-type {\n",
       "        vertical-align: middle;\n",
       "    }\n",
       "\n",
       "    .dataframe tbody tr th {\n",
       "        vertical-align: top;\n",
       "    }\n",
       "\n",
       "    .dataframe thead th {\n",
       "        text-align: right;\n",
       "    }\n",
       "</style>\n",
       "<table border=\"1\" class=\"dataframe\">\n",
       "  <thead>\n",
       "    <tr style=\"text-align: right;\">\n",
       "      <th></th>\n",
       "      <th>isAdult</th>\n",
       "      <th>ordering</th>\n",
       "      <th>averageRating</th>\n",
       "      <th>numVotes</th>\n",
       "      <th>log10Votes</th>\n",
       "    </tr>\n",
       "    <tr>\n",
       "      <th>genres</th>\n",
       "      <th></th>\n",
       "      <th></th>\n",
       "      <th></th>\n",
       "      <th></th>\n",
       "      <th></th>\n",
       "    </tr>\n",
       "  </thead>\n",
       "  <tbody>\n",
       "    <tr>\n",
       "      <th>action,crime,family</th>\n",
       "      <td>0.0</td>\n",
       "      <td>1.0</td>\n",
       "      <td>9.2</td>\n",
       "      <td>21.0</td>\n",
       "      <td>1.322219</td>\n",
       "    </tr>\n",
       "    <tr>\n",
       "      <th>history,sport</th>\n",
       "      <td>0.0</td>\n",
       "      <td>1.0</td>\n",
       "      <td>9.2</td>\n",
       "      <td>5.0</td>\n",
       "      <td>0.698970</td>\n",
       "    </tr>\n",
       "    <tr>\n",
       "      <th>comedy,music,talk-show</th>\n",
       "      <td>0.0</td>\n",
       "      <td>1.0</td>\n",
       "      <td>9.1</td>\n",
       "      <td>71.5</td>\n",
       "      <td>1.580983</td>\n",
       "    </tr>\n",
       "    <tr>\n",
       "      <th>adventure,musical</th>\n",
       "      <td>0.0</td>\n",
       "      <td>1.0</td>\n",
       "      <td>9.0</td>\n",
       "      <td>5.0</td>\n",
       "      <td>0.698970</td>\n",
       "    </tr>\n",
       "    <tr>\n",
       "      <th>adventure,biography,crime</th>\n",
       "      <td>0.0</td>\n",
       "      <td>1.0</td>\n",
       "      <td>8.9</td>\n",
       "      <td>41.0</td>\n",
       "      <td>1.612784</td>\n",
       "    </tr>\n",
       "    <tr>\n",
       "      <th>action,adventure,reality-tv</th>\n",
       "      <td>0.0</td>\n",
       "      <td>1.0</td>\n",
       "      <td>8.8</td>\n",
       "      <td>13.0</td>\n",
       "      <td>1.113943</td>\n",
       "    </tr>\n",
       "    <tr>\n",
       "      <th>action,animation,biography</th>\n",
       "      <td>0.0</td>\n",
       "      <td>1.0</td>\n",
       "      <td>8.8</td>\n",
       "      <td>214.0</td>\n",
       "      <td>2.330414</td>\n",
       "    </tr>\n",
       "    <tr>\n",
       "      <th>documentary,news,reality-tv</th>\n",
       "      <td>0.0</td>\n",
       "      <td>1.0</td>\n",
       "      <td>8.8</td>\n",
       "      <td>8.0</td>\n",
       "      <td>0.903090</td>\n",
       "    </tr>\n",
       "    <tr>\n",
       "      <th>family,musical,romance</th>\n",
       "      <td>0.0</td>\n",
       "      <td>1.0</td>\n",
       "      <td>8.8</td>\n",
       "      <td>15.0</td>\n",
       "      <td>1.176091</td>\n",
       "    </tr>\n",
       "    <tr>\n",
       "      <th>action,comedy,history</th>\n",
       "      <td>0.0</td>\n",
       "      <td>1.0</td>\n",
       "      <td>8.7</td>\n",
       "      <td>26.0</td>\n",
       "      <td>1.414973</td>\n",
       "    </tr>\n",
       "  </tbody>\n",
       "</table>\n",
       "</div>"
      ],
      "text/plain": [
       "                             isAdult  ordering  averageRating  numVotes  \\\n",
       "genres                                                                    \n",
       "action,crime,family              0.0       1.0            9.2      21.0   \n",
       "history,sport                    0.0       1.0            9.2       5.0   \n",
       "comedy,music,talk-show           0.0       1.0            9.1      71.5   \n",
       "adventure,musical                0.0       1.0            9.0       5.0   \n",
       "adventure,biography,crime        0.0       1.0            8.9      41.0   \n",
       "action,adventure,reality-tv      0.0       1.0            8.8      13.0   \n",
       "action,animation,biography       0.0       1.0            8.8     214.0   \n",
       "documentary,news,reality-tv      0.0       1.0            8.8       8.0   \n",
       "family,musical,romance           0.0       1.0            8.8      15.0   \n",
       "action,comedy,history            0.0       1.0            8.7      26.0   \n",
       "\n",
       "                             log10Votes  \n",
       "genres                                   \n",
       "action,crime,family            1.322219  \n",
       "history,sport                  0.698970  \n",
       "comedy,music,talk-show         1.580983  \n",
       "adventure,musical              0.698970  \n",
       "adventure,biography,crime      1.612784  \n",
       "action,adventure,reality-tv    1.113943  \n",
       "action,animation,biography     2.330414  \n",
       "documentary,news,reality-tv    0.903090  \n",
       "family,musical,romance         1.176091  \n",
       "action,comedy,history          1.414973  "
      ]
     },
     "execution_count": 20,
     "metadata": {},
     "output_type": "execute_result"
    }
   ],
   "source": [
    "df_group.nlargest(10, 'averageRating')"
   ]
  },
  {
   "cell_type": "markdown",
   "id": "7d7a7a14",
   "metadata": {},
   "source": [
    "7. Using ‘groupby’ group all data by averageRating and make a scatter plot of averageRating vs log10Votes. "
   ]
  },
  {
   "cell_type": "code",
   "execution_count": 106,
   "id": "edec3da4",
   "metadata": {},
   "outputs": [],
   "source": [
    "# Grouping the data by genres\n",
    "df_group_rating = df_new.groupby(['averageRating']).count()"
   ]
  },
  {
   "cell_type": "code",
   "execution_count": 92,
   "id": "ad5c4710",
   "metadata": {},
   "outputs": [
    {
     "data": {
      "text/html": [
       "<div>\n",
       "<style scoped>\n",
       "    .dataframe tbody tr th:only-of-type {\n",
       "        vertical-align: middle;\n",
       "    }\n",
       "\n",
       "    .dataframe tbody tr th {\n",
       "        vertical-align: top;\n",
       "    }\n",
       "\n",
       "    .dataframe thead th {\n",
       "        text-align: right;\n",
       "    }\n",
       "</style>\n",
       "<table border=\"1\" class=\"dataframe\">\n",
       "  <thead>\n",
       "    <tr style=\"text-align: right;\">\n",
       "      <th></th>\n",
       "      <th>isAdult</th>\n",
       "      <th>ordering</th>\n",
       "      <th>averageRating</th>\n",
       "      <th>numVotes</th>\n",
       "      <th>log10Votes</th>\n",
       "    </tr>\n",
       "    <tr>\n",
       "      <th>genres</th>\n",
       "      <th></th>\n",
       "      <th></th>\n",
       "      <th></th>\n",
       "      <th></th>\n",
       "      <th></th>\n",
       "    </tr>\n",
       "  </thead>\n",
       "  <tbody>\n",
       "    <tr>\n",
       "      <th>\\n</th>\n",
       "      <td>0.006118</td>\n",
       "      <td>1.0</td>\n",
       "      <td>6.500334</td>\n",
       "      <td>21.012792</td>\n",
       "      <td>1.135288</td>\n",
       "    </tr>\n",
       "    <tr>\n",
       "      <th>action</th>\n",
       "      <td>0.000000</td>\n",
       "      <td>1.0</td>\n",
       "      <td>6.085311</td>\n",
       "      <td>38.477401</td>\n",
       "      <td>1.249215</td>\n",
       "    </tr>\n",
       "    <tr>\n",
       "      <th>action,adult</th>\n",
       "      <td>1.000000</td>\n",
       "      <td>1.0</td>\n",
       "      <td>6.100000</td>\n",
       "      <td>9.000000</td>\n",
       "      <td>0.954243</td>\n",
       "    </tr>\n",
       "    <tr>\n",
       "      <th>action,adult,comedy</th>\n",
       "      <td>1.000000</td>\n",
       "      <td>1.0</td>\n",
       "      <td>3.400000</td>\n",
       "      <td>126.000000</td>\n",
       "      <td>2.100371</td>\n",
       "    </tr>\n",
       "    <tr>\n",
       "      <th>action,adult,drama</th>\n",
       "      <td>1.000000</td>\n",
       "      <td>1.0</td>\n",
       "      <td>5.900000</td>\n",
       "      <td>15.000000</td>\n",
       "      <td>1.176091</td>\n",
       "    </tr>\n",
       "    <tr>\n",
       "      <th>...</th>\n",
       "      <td>...</td>\n",
       "      <td>...</td>\n",
       "      <td>...</td>\n",
       "      <td>...</td>\n",
       "      <td>...</td>\n",
       "    </tr>\n",
       "    <tr>\n",
       "      <th>sport</th>\n",
       "      <td>0.000000</td>\n",
       "      <td>1.0</td>\n",
       "      <td>7.190055</td>\n",
       "      <td>33.596685</td>\n",
       "      <td>1.190878</td>\n",
       "    </tr>\n",
       "    <tr>\n",
       "      <th>talk-show</th>\n",
       "      <td>0.000000</td>\n",
       "      <td>1.0</td>\n",
       "      <td>6.866667</td>\n",
       "      <td>21.541667</td>\n",
       "      <td>1.185104</td>\n",
       "    </tr>\n",
       "    <tr>\n",
       "      <th>thriller</th>\n",
       "      <td>0.000000</td>\n",
       "      <td>1.0</td>\n",
       "      <td>5.938859</td>\n",
       "      <td>60.654189</td>\n",
       "      <td>1.446212</td>\n",
       "    </tr>\n",
       "    <tr>\n",
       "      <th>war</th>\n",
       "      <td>0.000000</td>\n",
       "      <td>1.0</td>\n",
       "      <td>7.068421</td>\n",
       "      <td>23.631579</td>\n",
       "      <td>1.164398</td>\n",
       "    </tr>\n",
       "    <tr>\n",
       "      <th>western</th>\n",
       "      <td>0.000000</td>\n",
       "      <td>1.0</td>\n",
       "      <td>6.159932</td>\n",
       "      <td>31.390411</td>\n",
       "      <td>1.257151</td>\n",
       "    </tr>\n",
       "  </tbody>\n",
       "</table>\n",
       "<p>708 rows × 5 columns</p>\n",
       "</div>"
      ],
      "text/plain": [
       "                      isAdult  ordering  averageRating    numVotes  log10Votes\n",
       "genres                                                                        \n",
       "\\n                   0.006118       1.0       6.500334   21.012792    1.135288\n",
       "action               0.000000       1.0       6.085311   38.477401    1.249215\n",
       "action,adult         1.000000       1.0       6.100000    9.000000    0.954243\n",
       "action,adult,comedy  1.000000       1.0       3.400000  126.000000    2.100371\n",
       "action,adult,drama   1.000000       1.0       5.900000   15.000000    1.176091\n",
       "...                       ...       ...            ...         ...         ...\n",
       "sport                0.000000       1.0       7.190055   33.596685    1.190878\n",
       "talk-show            0.000000       1.0       6.866667   21.541667    1.185104\n",
       "thriller             0.000000       1.0       5.938859   60.654189    1.446212\n",
       "war                  0.000000       1.0       7.068421   23.631579    1.164398\n",
       "western              0.000000       1.0       6.159932   31.390411    1.257151\n",
       "\n",
       "[708 rows x 5 columns]"
      ]
     },
     "execution_count": 92,
     "metadata": {},
     "output_type": "execute_result"
    }
   ],
   "source": [
    "df_group_rating.head()"
   ]
  },
  {
   "cell_type": "code",
   "execution_count": 93,
   "id": "72132e68",
   "metadata": {},
   "outputs": [
    {
     "data": {
      "text/plain": [
       "genres\n",
       "\\n                     6.500334\n",
       "action                 6.085311\n",
       "action,adult           6.100000\n",
       "action,adult,comedy    3.400000\n",
       "action,adult,drama     5.900000\n",
       "                         ...   \n",
       "sport                  7.190055\n",
       "talk-show              6.866667\n",
       "thriller               5.938859\n",
       "war                    7.068421\n",
       "western                6.159932\n",
       "Name: averageRating, Length: 708, dtype: float64"
      ]
     },
     "execution_count": 93,
     "metadata": {},
     "output_type": "execute_result"
    }
   ],
   "source": [
    "df_group_rating[\"averageRating\"].head()"
   ]
  },
  {
   "cell_type": "code",
   "execution_count": 108,
   "id": "dec7591b",
   "metadata": {},
   "outputs": [
    {
     "name": "stderr",
     "output_type": "stream",
     "text": [
      "No handles with labels found to put in legend.\n"
     ]
    },
    {
     "data": {
      "text/plain": [
       "<matplotlib.legend.Legend at 0x7f9eb8568160>"
      ]
     },
     "execution_count": 108,
     "metadata": {},
     "output_type": "execute_result"
    },
    {
     "data": {
      "image/png": "[encoded data removed]",
      "text/plain": [
       "<Figure size 432x288 with 1 Axes>"
      ]
     },
     "metadata": {
      "needs_background": "light"
     },
     "output_type": "display_data"
    }
   ],
   "source": [
    "import matplotlib.pyplot as plt\n",
    "\n",
    "plt.scatter(df_group_rating.index,df_group_rating.log10Votes)\n",
    "plt.legend(loc=\"best\")"
   ]
  },
  {
   "cell_type": "code",
   "execution_count": 83,
   "id": "9b83b5be",
   "metadata": {},
   "outputs": [
    {
     "name": "stderr",
     "output_type": "stream",
     "text": [
      "/home/ulrich/venv/datascience/lib/python3.8/site-packages/numpy/ma/core.py:2829: VisibleDeprecationWarning: Creating an ndarray from ragged nested sequences (which is a list-or-tuple of lists-or-tuples-or ndarrays with different lengths or shapes) is deprecated. If you meant to do this, you must specify 'dtype=object' when creating the ndarray.\n",
      "  _data = np.array(data, dtype=dtype, copy=copy,\n"
     ]
    },
    {
     "ename": "ValueError",
     "evalue": "setting an array element with a sequence.",
     "output_type": "error",
     "traceback": [
      "\u001b[0;31m---------------------------------------------------------------------------\u001b[0m",
      "\u001b[0;31mTypeError\u001b[0m                                 Traceback (most recent call last)",
      "\u001b[0;32m~/venv/datascience/lib/python3.8/site-packages/pandas/core/series.py\u001b[0m in \u001b[0;36mwrapper\u001b[0;34m(self)\u001b[0m\n\u001b[1;32m    184\u001b[0m             \u001b[0;32mreturn\u001b[0m \u001b[0mconverter\u001b[0m\u001b[0;34m(\u001b[0m\u001b[0mself\u001b[0m\u001b[0;34m.\u001b[0m\u001b[0miloc\u001b[0m\u001b[0;34m[\u001b[0m\u001b[0;36m0\u001b[0m\u001b[0;34m]\u001b[0m\u001b[0;34m)\u001b[0m\u001b[0;34m\u001b[0m\u001b[0;34m\u001b[0m\u001b[0m\n\u001b[0;32m--> 185\u001b[0;31m         \u001b[0;32mraise\u001b[0m \u001b[0mTypeError\u001b[0m\u001b[0;34m(\u001b[0m\u001b[0;34mf\"cannot convert the series to {converter}\"\u001b[0m\u001b[0;34m)\u001b[0m\u001b[0;34m\u001b[0m\u001b[0;34m\u001b[0m\u001b[0m\n\u001b[0m\u001b[1;32m    186\u001b[0m \u001b[0;34m\u001b[0m\u001b[0m\n",
      "\u001b[0;31mTypeError\u001b[0m: cannot convert the series to <class 'float'>",
      "\nThe above exception was the direct cause of the following exception:\n",
      "\u001b[0;31mValueError\u001b[0m                                Traceback (most recent call last)",
      "\u001b[0;32m/tmp/ipykernel_116333/2705039997.py\u001b[0m in \u001b[0;36m<module>\u001b[0;34m\u001b[0m\n\u001b[0;32m----> 1\u001b[0;31m \u001b[0mplt\u001b[0m\u001b[0;34m.\u001b[0m\u001b[0mscatter\u001b[0m\u001b[0;34m(\u001b[0m\u001b[0mdf_group_rating\u001b[0m\u001b[0;34m[\u001b[0m\u001b[0;34m\"log10Votes\"\u001b[0m\u001b[0;34m]\u001b[0m\u001b[0;34m,\u001b[0m \u001b[0mdf_group_rating\u001b[0m\u001b[0;34m[\u001b[0m\u001b[0;34m\"averageRating\"\u001b[0m\u001b[0;34m]\u001b[0m\u001b[0;34m)\u001b[0m\u001b[0;34m\u001b[0m\u001b[0;34m\u001b[0m\u001b[0m\n\u001b[0m\u001b[1;32m      2\u001b[0m \u001b[0;31m# plt.scatter(df_group[\"log10Votes\"], df_group[\"averageRating\"])\u001b[0m\u001b[0;34m\u001b[0m\u001b[0;34m\u001b[0m\u001b[0;34m\u001b[0m\u001b[0m\n\u001b[1;32m      3\u001b[0m \u001b[0mplt\u001b[0m\u001b[0;34m.\u001b[0m\u001b[0mxlabel\u001b[0m\u001b[0;34m(\u001b[0m\u001b[0;34m\"Log10 Votes\"\u001b[0m\u001b[0;34m)\u001b[0m\u001b[0;34m\u001b[0m\u001b[0;34m\u001b[0m\u001b[0m\n\u001b[1;32m      4\u001b[0m \u001b[0mplt\u001b[0m\u001b[0;34m.\u001b[0m\u001b[0mylabel\u001b[0m\u001b[0;34m(\u001b[0m\u001b[0;34m\"Average rating\"\u001b[0m\u001b[0;34m)\u001b[0m\u001b[0;34m\u001b[0m\u001b[0;34m\u001b[0m\u001b[0m\n\u001b[1;32m      5\u001b[0m \u001b[0mplt\u001b[0m\u001b[0;34m.\u001b[0m\u001b[0mtitle\u001b[0m\u001b[0;34m(\u001b[0m\u001b[0;34m\"Mean of the different groups\"\u001b[0m\u001b[0;34m)\u001b[0m\u001b[0;34m\u001b[0m\u001b[0;34m\u001b[0m\u001b[0m\n",
      "\u001b[0;32m~/venv/datascience/lib/python3.8/site-packages/matplotlib/pyplot.py\u001b[0m in \u001b[0;36mscatter\u001b[0;34m(x, y, s, c, marker, cmap, norm, vmin, vmax, alpha, linewidths, edgecolors, plotnonfinite, data, **kwargs)\u001b[0m\n\u001b[1;32m   3066\u001b[0m         \u001b[0mvmin\u001b[0m\u001b[0;34m=\u001b[0m\u001b[0;32mNone\u001b[0m\u001b[0;34m,\u001b[0m \u001b[0mvmax\u001b[0m\u001b[0;34m=\u001b[0m\u001b[0;32mNone\u001b[0m\u001b[0;34m,\u001b[0m \u001b[0malpha\u001b[0m\u001b[0;34m=\u001b[0m\u001b[0;32mNone\u001b[0m\u001b[0;34m,\u001b[0m \u001b[0mlinewidths\u001b[0m\u001b[0;34m=\u001b[0m\u001b[0;32mNone\u001b[0m\u001b[0;34m,\u001b[0m \u001b[0;34m*\u001b[0m\u001b[0;34m,\u001b[0m\u001b[0;34m\u001b[0m\u001b[0;34m\u001b[0m\u001b[0m\n\u001b[1;32m   3067\u001b[0m         edgecolors=None, plotnonfinite=False, data=None, **kwargs):\n\u001b[0;32m-> 3068\u001b[0;31m     __ret = gca().scatter(\n\u001b[0m\u001b[1;32m   3069\u001b[0m         \u001b[0mx\u001b[0m\u001b[0;34m,\u001b[0m \u001b[0my\u001b[0m\u001b[0;34m,\u001b[0m \u001b[0ms\u001b[0m\u001b[0;34m=\u001b[0m\u001b[0ms\u001b[0m\u001b[0;34m,\u001b[0m \u001b[0mc\u001b[0m\u001b[0;34m=\u001b[0m\u001b[0mc\u001b[0m\u001b[0;34m,\u001b[0m \u001b[0mmarker\u001b[0m\u001b[0;34m=\u001b[0m\u001b[0mmarker\u001b[0m\u001b[0;34m,\u001b[0m \u001b[0mcmap\u001b[0m\u001b[0;34m=\u001b[0m\u001b[0mcmap\u001b[0m\u001b[0;34m,\u001b[0m \u001b[0mnorm\u001b[0m\u001b[0;34m=\u001b[0m\u001b[0mnorm\u001b[0m\u001b[0;34m,\u001b[0m\u001b[0;34m\u001b[0m\u001b[0;34m\u001b[0m\u001b[0m\n\u001b[1;32m   3070\u001b[0m         \u001b[0mvmin\u001b[0m\u001b[0;34m=\u001b[0m\u001b[0mvmin\u001b[0m\u001b[0;34m,\u001b[0m \u001b[0mvmax\u001b[0m\u001b[0;34m=\u001b[0m\u001b[0mvmax\u001b[0m\u001b[0;34m,\u001b[0m \u001b[0malpha\u001b[0m\u001b[0;34m=\u001b[0m\u001b[0malpha\u001b[0m\u001b[0;34m,\u001b[0m \u001b[0mlinewidths\u001b[0m\u001b[0;34m=\u001b[0m\u001b[0mlinewidths\u001b[0m\u001b[0;34m,\u001b[0m\u001b[0;34m\u001b[0m\u001b[0;34m\u001b[0m\u001b[0m\n",
      "\u001b[0;32m~/venv/datascience/lib/python3.8/site-packages/matplotlib/__init__.py\u001b[0m in \u001b[0;36minner\u001b[0;34m(ax, data, *args, **kwargs)\u001b[0m\n\u001b[1;32m   1359\u001b[0m     \u001b[0;32mdef\u001b[0m \u001b[0minner\u001b[0m\u001b[0;34m(\u001b[0m\u001b[0max\u001b[0m\u001b[0;34m,\u001b[0m \u001b[0;34m*\u001b[0m\u001b[0margs\u001b[0m\u001b[0;34m,\u001b[0m \u001b[0mdata\u001b[0m\u001b[0;34m=\u001b[0m\u001b[0;32mNone\u001b[0m\u001b[0;34m,\u001b[0m \u001b[0;34m**\u001b[0m\u001b[0mkwargs\u001b[0m\u001b[0;34m)\u001b[0m\u001b[0;34m:\u001b[0m\u001b[0;34m\u001b[0m\u001b[0;34m\u001b[0m\u001b[0m\n\u001b[1;32m   1360\u001b[0m         \u001b[0;32mif\u001b[0m \u001b[0mdata\u001b[0m \u001b[0;32mis\u001b[0m \u001b[0;32mNone\u001b[0m\u001b[0;34m:\u001b[0m\u001b[0;34m\u001b[0m\u001b[0;34m\u001b[0m\u001b[0m\n\u001b[0;32m-> 1361\u001b[0;31m             \u001b[0;32mreturn\u001b[0m \u001b[0mfunc\u001b[0m\u001b[0;34m(\u001b[0m\u001b[0max\u001b[0m\u001b[0;34m,\u001b[0m \u001b[0;34m*\u001b[0m\u001b[0mmap\u001b[0m\u001b[0;34m(\u001b[0m\u001b[0msanitize_sequence\u001b[0m\u001b[0;34m,\u001b[0m \u001b[0margs\u001b[0m\u001b[0;34m)\u001b[0m\u001b[0;34m,\u001b[0m \u001b[0;34m**\u001b[0m\u001b[0mkwargs\u001b[0m\u001b[0;34m)\u001b[0m\u001b[0;34m\u001b[0m\u001b[0;34m\u001b[0m\u001b[0m\n\u001b[0m\u001b[1;32m   1362\u001b[0m \u001b[0;34m\u001b[0m\u001b[0m\n\u001b[1;32m   1363\u001b[0m         \u001b[0mbound\u001b[0m \u001b[0;34m=\u001b[0m \u001b[0mnew_sig\u001b[0m\u001b[0;34m.\u001b[0m\u001b[0mbind\u001b[0m\u001b[0;34m(\u001b[0m\u001b[0max\u001b[0m\u001b[0;34m,\u001b[0m \u001b[0;34m*\u001b[0m\u001b[0margs\u001b[0m\u001b[0;34m,\u001b[0m \u001b[0;34m**\u001b[0m\u001b[0mkwargs\u001b[0m\u001b[0;34m)\u001b[0m\u001b[0;34m\u001b[0m\u001b[0;34m\u001b[0m\u001b[0m\n",
      "\u001b[0;32m~/venv/datascience/lib/python3.8/site-packages/matplotlib/axes/_axes.py\u001b[0m in \u001b[0;36mscatter\u001b[0;34m(self, x, y, s, c, marker, cmap, norm, vmin, vmax, alpha, linewidths, edgecolors, plotnonfinite, **kwargs)\u001b[0m\n\u001b[1;32m   4585\u001b[0m         \u001b[0moffsets\u001b[0m \u001b[0;34m=\u001b[0m \u001b[0mnp\u001b[0m\u001b[0;34m.\u001b[0m\u001b[0mma\u001b[0m\u001b[0;34m.\u001b[0m\u001b[0mcolumn_stack\u001b[0m\u001b[0;34m(\u001b[0m\u001b[0;34m[\u001b[0m\u001b[0mx\u001b[0m\u001b[0;34m,\u001b[0m \u001b[0my\u001b[0m\u001b[0;34m]\u001b[0m\u001b[0;34m)\u001b[0m\u001b[0;34m\u001b[0m\u001b[0;34m\u001b[0m\u001b[0m\n\u001b[1;32m   4586\u001b[0m \u001b[0;34m\u001b[0m\u001b[0m\n\u001b[0;32m-> 4587\u001b[0;31m         collection = mcoll.PathCollection(\n\u001b[0m\u001b[1;32m   4588\u001b[0m                 \u001b[0;34m(\u001b[0m\u001b[0mpath\u001b[0m\u001b[0;34m,\u001b[0m\u001b[0;34m)\u001b[0m\u001b[0;34m,\u001b[0m \u001b[0mscales\u001b[0m\u001b[0;34m,\u001b[0m\u001b[0;34m\u001b[0m\u001b[0;34m\u001b[0m\u001b[0m\n\u001b[1;32m   4589\u001b[0m                 \u001b[0mfacecolors\u001b[0m\u001b[0;34m=\u001b[0m\u001b[0mcolors\u001b[0m\u001b[0;34m,\u001b[0m\u001b[0;34m\u001b[0m\u001b[0;34m\u001b[0m\u001b[0m\n",
      "\u001b[0;32m~/venv/datascience/lib/python3.8/site-packages/matplotlib/collections.py\u001b[0m in \u001b[0;36m__init__\u001b[0;34m(self, paths, sizes, **kwargs)\u001b[0m\n\u001b[1;32m   1032\u001b[0m         \"\"\"\n\u001b[1;32m   1033\u001b[0m \u001b[0;34m\u001b[0m\u001b[0m\n\u001b[0;32m-> 1034\u001b[0;31m         \u001b[0msuper\u001b[0m\u001b[0;34m(\u001b[0m\u001b[0;34m)\u001b[0m\u001b[0;34m.\u001b[0m\u001b[0m__init__\u001b[0m\u001b[0;34m(\u001b[0m\u001b[0;34m**\u001b[0m\u001b[0mkwargs\u001b[0m\u001b[0;34m)\u001b[0m\u001b[0;34m\u001b[0m\u001b[0;34m\u001b[0m\u001b[0m\n\u001b[0m\u001b[1;32m   1035\u001b[0m         \u001b[0mself\u001b[0m\u001b[0;34m.\u001b[0m\u001b[0mset_paths\u001b[0m\u001b[0;34m(\u001b[0m\u001b[0mpaths\u001b[0m\u001b[0;34m)\u001b[0m\u001b[0;34m\u001b[0m\u001b[0;34m\u001b[0m\u001b[0m\n\u001b[1;32m   1036\u001b[0m         \u001b[0mself\u001b[0m\u001b[0;34m.\u001b[0m\u001b[0mset_sizes\u001b[0m\u001b[0;34m(\u001b[0m\u001b[0msizes\u001b[0m\u001b[0;34m)\u001b[0m\u001b[0;34m\u001b[0m\u001b[0;34m\u001b[0m\u001b[0m\n",
      "\u001b[0;32m~/venv/datascience/lib/python3.8/site-packages/matplotlib/_api/deprecation.py\u001b[0m in \u001b[0;36mwrapper\u001b[0;34m(*inner_args, **inner_kwargs)\u001b[0m\n\u001b[1;32m    429\u001b[0m                          \u001b[0;32melse\u001b[0m \u001b[0mdeprecation_addendum\u001b[0m\u001b[0;34m,\u001b[0m\u001b[0;34m\u001b[0m\u001b[0;34m\u001b[0m\u001b[0m\n\u001b[1;32m    430\u001b[0m                 **kwargs)\n\u001b[0;32m--> 431\u001b[0;31m         \u001b[0;32mreturn\u001b[0m \u001b[0mfunc\u001b[0m\u001b[0;34m(\u001b[0m\u001b[0;34m*\u001b[0m\u001b[0minner_args\u001b[0m\u001b[0;34m,\u001b[0m \u001b[0;34m**\u001b[0m\u001b[0minner_kwargs\u001b[0m\u001b[0;34m)\u001b[0m\u001b[0;34m\u001b[0m\u001b[0;34m\u001b[0m\u001b[0m\n\u001b[0m\u001b[1;32m    432\u001b[0m \u001b[0;34m\u001b[0m\u001b[0m\n\u001b[1;32m    433\u001b[0m     \u001b[0;32mreturn\u001b[0m \u001b[0mwrapper\u001b[0m\u001b[0;34m\u001b[0m\u001b[0;34m\u001b[0m\u001b[0m\n",
      "\u001b[0;32m~/venv/datascience/lib/python3.8/site-packages/matplotlib/collections.py\u001b[0m in \u001b[0;36m__init__\u001b[0;34m(self, edgecolors, facecolors, linewidths, linestyles, capstyle, joinstyle, antialiaseds, offsets, transOffset, norm, cmap, pickradius, hatch, urls, offset_position, zorder, **kwargs)\u001b[0m\n\u001b[1;32m    204\u001b[0m         \u001b[0mself\u001b[0m\u001b[0;34m.\u001b[0m\u001b[0m_uniform_offsets\u001b[0m \u001b[0;34m=\u001b[0m \u001b[0;32mNone\u001b[0m\u001b[0;34m\u001b[0m\u001b[0;34m\u001b[0m\u001b[0m\n\u001b[1;32m    205\u001b[0m         \u001b[0;32mif\u001b[0m \u001b[0moffsets\u001b[0m \u001b[0;32mis\u001b[0m \u001b[0;32mnot\u001b[0m \u001b[0;32mNone\u001b[0m\u001b[0;34m:\u001b[0m\u001b[0;34m\u001b[0m\u001b[0;34m\u001b[0m\u001b[0m\n\u001b[0;32m--> 206\u001b[0;31m             \u001b[0moffsets\u001b[0m \u001b[0;34m=\u001b[0m \u001b[0mnp\u001b[0m\u001b[0;34m.\u001b[0m\u001b[0masanyarray\u001b[0m\u001b[0;34m(\u001b[0m\u001b[0moffsets\u001b[0m\u001b[0;34m,\u001b[0m \u001b[0mfloat\u001b[0m\u001b[0;34m)\u001b[0m\u001b[0;34m\u001b[0m\u001b[0;34m\u001b[0m\u001b[0m\n\u001b[0m\u001b[1;32m    207\u001b[0m             \u001b[0;31m# Broadcast (2,) -> (1, 2) but nothing else.\u001b[0m\u001b[0;34m\u001b[0m\u001b[0;34m\u001b[0m\u001b[0;34m\u001b[0m\u001b[0m\n\u001b[1;32m    208\u001b[0m             \u001b[0;32mif\u001b[0m \u001b[0moffsets\u001b[0m\u001b[0;34m.\u001b[0m\u001b[0mshape\u001b[0m \u001b[0;34m==\u001b[0m \u001b[0;34m(\u001b[0m\u001b[0;36m2\u001b[0m\u001b[0;34m,\u001b[0m\u001b[0;34m)\u001b[0m\u001b[0;34m:\u001b[0m\u001b[0;34m\u001b[0m\u001b[0;34m\u001b[0m\u001b[0m\n",
      "\u001b[0;31mValueError\u001b[0m: setting an array element with a sequence."
     ]
    },
    {
     "data": {
      "image/png": "[encoded data removed]",
      "text/plain": [
       "<Figure size 432x288 with 1 Axes>"
      ]
     },
     "metadata": {
      "needs_background": "light"
     },
     "output_type": "display_data"
    }
   ],
   "source": [
    "plt.scatter(df_group_rating[\"log10Votes\"], df_group_rating[\"averageRating\"])\n",
    "# plt.scatter(df_group[\"log10Votes\"], df_group[\"averageRating\"])\n",
    "plt.xlabel(\"Log10 Votes\")\n",
    "plt.ylabel(\"Average rating\")\n",
    "plt.title(\"Mean of the different groups\")\n",
    "plt.show()"
   ]
  },
  {
   "cell_type": "markdown",
   "id": "a5bf242d",
   "metadata": {},
   "source": [
    "### 8. Perform linear regression on your data (averageRating vs log10Votes) created in the previous step in three different ways:\n",
    "\n",
    "<ol>\n",
    "    <li>8.1 Using sklearn</li> \n",
    "    <li>8.2 Using scipy</li> \n",
    "    <li>8.3 Using pytorch</li> \n",
    "</ol>"
   ]
  },
  {
   "cell_type": "code",
   "execution_count": 69,
   "id": "41e8f7d1",
   "metadata": {},
   "outputs": [
    {
     "name": "stdout",
     "output_type": "stream",
     "text": [
      "StandardScaler()\n",
      "StandardScaler()\n"
     ]
    }
   ],
   "source": [
    "# x-values for the regression will be the Average rating and y-values will be log 10 votes.\n",
    "x_ = np.array(df_group_rating.index)\n",
    "y_ = np.array(df_group_rating[\"log10Votes\"])\n",
    "\n",
    "from sklearn.preprocessing import StandardScaler\n",
    "scaler = StandardScaler()\n",
    "print(scaler.fit(x_.reshape(-1,1)))\n",
    "x = scaler.transform(x_.reshape(-1,1)).squeeze()\n",
    "\n",
    "scaler = StandardScaler()\n",
    "print(scaler.fit(y_.reshape(-1,1)))\n",
    "y = scaler.transform(y_.reshape(-1,1)).squeeze()\n"
   ]
  },
  {
   "cell_type": "code",
   "execution_count": 70,
   "id": "13915273",
   "metadata": {},
   "outputs": [
    {
     "data": {
      "image/png": "[encoded data removed]",
      "text/plain": [
       "<Figure size 432x288 with 1 Axes>"
      ]
     },
     "metadata": {
      "needs_background": "light"
     },
     "output_type": "display_data"
    }
   ],
   "source": [
    "plt.scatter(x, y)\n",
    "plt.xlabel(\"Log10 Votes\")\n",
    "plt.ylabel(\"Average rating\")\n",
    "plt.title(\"After standardising the data\")\n",
    "plt.show()"
   ]
  },
  {
   "cell_type": "markdown",
   "id": "96a2846b",
   "metadata": {},
   "source": [
    "Using sklearn"
   ]
  },
  {
   "cell_type": "code",
   "execution_count": 71,
   "id": "2f97d628",
   "metadata": {},
   "outputs": [
    {
     "name": "stdout",
     "output_type": "stream",
     "text": [
      "Slope and intercept from sklearn linear regression are -0.8494282759901052 and 3.3970653417641993e-16.\n"
     ]
    }
   ],
   "source": [
    "from sklearn.linear_model import LinearRegression\n",
    "regr = LinearRegression()\n",
    "regr.fit(x.reshape(-1,1), y)\n",
    "sklearn_m ,sklearn_c = regr.coef_[0], regr.intercept_\n",
    "\n",
    "print(f\"Slope and intercept from sklearn linear regression are {sklearn_m} and {sklearn_c}.\")"
   ]
  },
  {
   "cell_type": "markdown",
   "id": "32624f92",
   "metadata": {},
   "source": [
    "Using scipy"
   ]
  },
  {
   "cell_type": "code",
   "execution_count": 72,
   "id": "9548583d",
   "metadata": {},
   "outputs": [
    {
     "name": "stdout",
     "output_type": "stream",
     "text": [
      "Slope and intercept from scipy stats linear regression are -0.8494282759901053 and 3.3970653417641993e-16.\n"
     ]
    }
   ],
   "source": [
    "from scipy.stats import linregress\n",
    "result = linregress(x, y)\n",
    "scipy_m, scipy_c = result.slope, result.intercept\n",
    "\n",
    "print(f\"Slope and intercept from scipy stats linear regression are {scipy_m} and {scipy_c}.\")"
   ]
  },
  {
   "cell_type": "markdown",
   "id": "d17194be",
   "metadata": {},
   "source": [
    "Using pytorch"
   ]
  },
  {
   "cell_type": "code",
   "execution_count": 73,
   "id": "5aa21a25",
   "metadata": {},
   "outputs": [],
   "source": [
    "import torch\n",
    "from torch.autograd import Variable\n",
    "\n",
    "x_data = Variable(torch.Tensor(x.reshape(-1,1)))\n",
    "y_data = Variable(torch.Tensor(y))"
   ]
  },
  {
   "cell_type": "code",
   "execution_count": 74,
   "id": "65dc0cd3",
   "metadata": {},
   "outputs": [],
   "source": [
    "class LinearRegressionModel(torch.nn.Module):\n",
    " \n",
    "    def __init__(self):\n",
    "        super(LinearRegressionModel, self).__init__()\n",
    "        self.linear = torch.nn.Linear(1, 1, bias=True)  # One in and one out\n",
    " \n",
    "    def forward(self, x):\n",
    "        y_pred = self.linear(x)\n",
    "        return y_pred"
   ]
  },
  {
   "cell_type": "code",
   "execution_count": 75,
   "id": "bc52bd8c",
   "metadata": {},
   "outputs": [],
   "source": [
    "model = LinearRegressionModel()\n",
    "loss_fn = torch.nn.MSELoss(reduction='mean')\n",
    "optimizer = torch.optim.SGD(model.parameters(), lr = 1e-3)\n"
   ]
  },
  {
   "cell_type": "code",
   "execution_count": 76,
   "id": "9cbdce2d",
   "metadata": {},
   "outputs": [
    {
     "name": "stderr",
     "output_type": "stream",
     "text": [
      "/home/ulrich/venv/datascience/lib/python3.8/site-packages/torch/nn/modules/loss.py:528: UserWarning: Using a target size (torch.Size([91])) that is different to the input size (torch.Size([91, 1])). This will likely lead to incorrect results due to broadcasting. Please ensure they have the same size.\n",
      "  return F.mse_loss(input, target, reduction=self.reduction)\n"
     ]
    },
    {
     "name": "stdout",
     "output_type": "stream",
     "text": [
      "epoch 0, loss 1.526415228843689\n",
      "epoch 1000, loss 1.0096030235290527\n",
      "epoch 2000, loss 1.0001752376556396\n",
      "epoch 3000, loss 1.0000033378601074\n",
      "epoch 4000, loss 1.0\n",
      "epoch 5000, loss 1.0\n",
      "epoch 6000, loss 1.0\n",
      "epoch 7000, loss 1.0\n",
      "epoch 8000, loss 1.0\n",
      "epoch 9000, loss 1.0\n",
      "epoch 10000, loss 1.0\n",
      "epoch 11000, loss 1.0\n",
      "epoch 12000, loss 1.0\n",
      "epoch 13000, loss 1.0\n",
      "epoch 14000, loss 1.0\n",
      "epoch 15000, loss 1.0\n",
      "epoch 16000, loss 1.0\n",
      "epoch 17000, loss 1.0\n",
      "epoch 18000, loss 1.0\n",
      "epoch 19000, loss 1.0\n"
     ]
    }
   ],
   "source": [
    "# for small dataset we will just use one batch\n",
    "EPOCH = 20000\n",
    "for epoch in range(EPOCH):\n",
    " \n",
    "    # Forward pass: Compute predicted y by passing\n",
    "    # x to the model\n",
    "    pred_y = model(x_data)\n",
    " \n",
    "    # Compute and print loss\n",
    "    loss = loss_fn(pred_y, y_data)\n",
    " \n",
    "    # Zero gradients, perform a backward pass,\n",
    "    # and update the weights.\n",
    "    optimizer.zero_grad()\n",
    "    loss.backward()\n",
    "    optimizer.step()\n",
    "    if epoch %1000 == 0:\n",
    "        print('epoch {}, loss {}'.format(epoch, loss.item()))"
   ]
  },
  {
   "cell_type": "code",
   "execution_count": 77,
   "id": "5c08412f",
   "metadata": {},
   "outputs": [
    {
     "name": "stdout",
     "output_type": "stream",
     "text": [
      "Parameter containing:\n",
      "tensor([[1.5139e-14]], requires_grad=True)\n",
      "Parameter containing:\n",
      "tensor([7.4516e-09], requires_grad=True)\n"
     ]
    }
   ],
   "source": [
    "print(model.linear.weight)\n",
    "print(model.linear.bias)"
   ]
  },
  {
   "cell_type": "code",
   "execution_count": null,
   "id": "f1dd3b70",
   "metadata": {},
   "outputs": [],
   "source": [
    "yp = model(x_data)"
   ]
  },
  {
   "cell_type": "code",
   "execution_count": null,
   "id": "a165ceb4",
   "metadata": {},
   "outputs": [],
   "source": [
    "yp"
   ]
  },
  {
   "cell_type": "code",
   "execution_count": null,
   "id": "3487cb6a",
   "metadata": {},
   "outputs": [],
   "source": [
    "y_data"
   ]
  },
  {
   "cell_type": "code",
   "execution_count": null,
   "id": "44374805",
   "metadata": {},
   "outputs": [],
   "source": [
    "linregress?"
   ]
  },
  {
   "cell_type": "code",
   "execution_count": null,
   "id": "b8303272",
   "metadata": {},
   "outputs": [],
   "source": []
  }
 ],
 "metadata": {
  "kernelspec": {
   "display_name": "Python 3 (ipykernel)",
   "language": "python",
   "name": "python3"
  },
  "language_info": {
   "codemirror_mode": {
    "name": "ipython",
    "version": 3
   },
   "file_extension": ".py",
   "mimetype": "text/x-python",
   "name": "python",
   "nbconvert_exporter": "python",
   "pygments_lexer": "ipython3",
   "version": "3.8.10"
  }
 },
 "nbformat": 4,
 "nbformat_minor": 5
}
